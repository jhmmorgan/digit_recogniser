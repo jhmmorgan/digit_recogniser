{
 "cells": [
  {
   "cell_type": "markdown",
   "id": "exotic-lighting",
   "metadata": {},
   "source": [
    "# Can we recognise hand-written digits?\n",
    "\n",
    "**__James Morgan__** (jhmmorgan)\n",
    "<br>2021-10-31</br>\n",
    "\n",
    "## 📖 Background\n",
    "MNIST (\"Modified National Institute of Standards and Technology\") is the de facto “hello world” dataset of computer vision. Since its release in 1999, this classic dataset of handwritten images has served as the basis for benchmarking classification algorithms. As new machine learning techniques emerge, MNIST remains a reliable resource for researchers and learners alike.\n",
    "\n",
    "In this competition, your goal is to correctly identify digits from a dataset of tens of thousands of handwritten images. We’ve curated a set of tutorial-style kernels which cover everything from regression to neural networks. We encourage you to experiment with different algorithms to learn first-hand what works well and how techniques compare.\n",
    "\n",
    "## 1. Set Up\n",
    "### 1.1 Import Libraries"
   ]
  },
  {
   "cell_type": "code",
   "execution_count": 1,
   "id": "european-enhancement",
   "metadata": {
    "jupyter": {
     "source_hidden": true
    },
    "tags": []
   },
   "outputs": [],
   "source": [
    "import pandas as pd\n",
    "import numpy as np\n",
    "import matplotlib.pyplot as plt\n",
    "\n",
    "from sklearn.model_selection import train_test_split\n",
    "from sklearn.model_selection import KFold\n",
    "from sklearn.model_selection import cross_val_score\n",
    "from sklearn.model_selection import GridSearchCV\n",
    "\n",
    "from sklearn import metrics\n",
    "from sklearn.metrics import classification_report\n",
    "\n",
    "from sklearn.pipeline import Pipeline\n",
    "\n",
    "from sklearn.decomposition import PCA\n",
    "from sklearn.svm import SVC\n",
    "from sklearn.neighbors import KNeighborsClassifier"
   ]
  },
  {
   "cell_type": "markdown",
   "id": "acting-inspiration",
   "metadata": {},
   "source": [
    "### 1.2 Load Data"
   ]
  },
  {
   "cell_type": "code",
   "execution_count": 2,
   "id": "alpha-ladder",
   "metadata": {
    "jupyter": {
     "source_hidden": true
    },
    "tags": []
   },
   "outputs": [],
   "source": [
    "test   = pd.read_csv(\"test.csv\")\n",
    "train  = pd.read_csv(\"train.csv\")\n",
    "sample = pd.read_csv(\"sample_submission.csv\")"
   ]
  },
  {
   "cell_type": "code",
   "execution_count": 3,
   "id": "extensive-somerset",
   "metadata": {
    "jupyter": {
     "source_hidden": true
    },
    "tags": []
   },
   "outputs": [
    {
     "data": {
      "text/html": [
       "<div>\n",
       "<style scoped>\n",
       "    .dataframe tbody tr th:only-of-type {\n",
       "        vertical-align: middle;\n",
       "    }\n",
       "\n",
       "    .dataframe tbody tr th {\n",
       "        vertical-align: top;\n",
       "    }\n",
       "\n",
       "    .dataframe thead th {\n",
       "        text-align: right;\n",
       "    }\n",
       "</style>\n",
       "<table border=\"1\" class=\"dataframe\">\n",
       "  <thead>\n",
       "    <tr style=\"text-align: right;\">\n",
       "      <th></th>\n",
       "      <th>label</th>\n",
       "      <th>pixel0</th>\n",
       "      <th>pixel1</th>\n",
       "      <th>pixel2</th>\n",
       "      <th>pixel3</th>\n",
       "      <th>pixel4</th>\n",
       "      <th>pixel5</th>\n",
       "      <th>pixel6</th>\n",
       "      <th>pixel7</th>\n",
       "      <th>pixel8</th>\n",
       "      <th>...</th>\n",
       "      <th>pixel774</th>\n",
       "      <th>pixel775</th>\n",
       "      <th>pixel776</th>\n",
       "      <th>pixel777</th>\n",
       "      <th>pixel778</th>\n",
       "      <th>pixel779</th>\n",
       "      <th>pixel780</th>\n",
       "      <th>pixel781</th>\n",
       "      <th>pixel782</th>\n",
       "      <th>pixel783</th>\n",
       "    </tr>\n",
       "  </thead>\n",
       "  <tbody>\n",
       "    <tr>\n",
       "      <th>0</th>\n",
       "      <td>1</td>\n",
       "      <td>0</td>\n",
       "      <td>0</td>\n",
       "      <td>0</td>\n",
       "      <td>0</td>\n",
       "      <td>0</td>\n",
       "      <td>0</td>\n",
       "      <td>0</td>\n",
       "      <td>0</td>\n",
       "      <td>0</td>\n",
       "      <td>...</td>\n",
       "      <td>0</td>\n",
       "      <td>0</td>\n",
       "      <td>0</td>\n",
       "      <td>0</td>\n",
       "      <td>0</td>\n",
       "      <td>0</td>\n",
       "      <td>0</td>\n",
       "      <td>0</td>\n",
       "      <td>0</td>\n",
       "      <td>0</td>\n",
       "    </tr>\n",
       "    <tr>\n",
       "      <th>1</th>\n",
       "      <td>0</td>\n",
       "      <td>0</td>\n",
       "      <td>0</td>\n",
       "      <td>0</td>\n",
       "      <td>0</td>\n",
       "      <td>0</td>\n",
       "      <td>0</td>\n",
       "      <td>0</td>\n",
       "      <td>0</td>\n",
       "      <td>0</td>\n",
       "      <td>...</td>\n",
       "      <td>0</td>\n",
       "      <td>0</td>\n",
       "      <td>0</td>\n",
       "      <td>0</td>\n",
       "      <td>0</td>\n",
       "      <td>0</td>\n",
       "      <td>0</td>\n",
       "      <td>0</td>\n",
       "      <td>0</td>\n",
       "      <td>0</td>\n",
       "    </tr>\n",
       "    <tr>\n",
       "      <th>2</th>\n",
       "      <td>1</td>\n",
       "      <td>0</td>\n",
       "      <td>0</td>\n",
       "      <td>0</td>\n",
       "      <td>0</td>\n",
       "      <td>0</td>\n",
       "      <td>0</td>\n",
       "      <td>0</td>\n",
       "      <td>0</td>\n",
       "      <td>0</td>\n",
       "      <td>...</td>\n",
       "      <td>0</td>\n",
       "      <td>0</td>\n",
       "      <td>0</td>\n",
       "      <td>0</td>\n",
       "      <td>0</td>\n",
       "      <td>0</td>\n",
       "      <td>0</td>\n",
       "      <td>0</td>\n",
       "      <td>0</td>\n",
       "      <td>0</td>\n",
       "    </tr>\n",
       "    <tr>\n",
       "      <th>3</th>\n",
       "      <td>4</td>\n",
       "      <td>0</td>\n",
       "      <td>0</td>\n",
       "      <td>0</td>\n",
       "      <td>0</td>\n",
       "      <td>0</td>\n",
       "      <td>0</td>\n",
       "      <td>0</td>\n",
       "      <td>0</td>\n",
       "      <td>0</td>\n",
       "      <td>...</td>\n",
       "      <td>0</td>\n",
       "      <td>0</td>\n",
       "      <td>0</td>\n",
       "      <td>0</td>\n",
       "      <td>0</td>\n",
       "      <td>0</td>\n",
       "      <td>0</td>\n",
       "      <td>0</td>\n",
       "      <td>0</td>\n",
       "      <td>0</td>\n",
       "    </tr>\n",
       "    <tr>\n",
       "      <th>4</th>\n",
       "      <td>0</td>\n",
       "      <td>0</td>\n",
       "      <td>0</td>\n",
       "      <td>0</td>\n",
       "      <td>0</td>\n",
       "      <td>0</td>\n",
       "      <td>0</td>\n",
       "      <td>0</td>\n",
       "      <td>0</td>\n",
       "      <td>0</td>\n",
       "      <td>...</td>\n",
       "      <td>0</td>\n",
       "      <td>0</td>\n",
       "      <td>0</td>\n",
       "      <td>0</td>\n",
       "      <td>0</td>\n",
       "      <td>0</td>\n",
       "      <td>0</td>\n",
       "      <td>0</td>\n",
       "      <td>0</td>\n",
       "      <td>0</td>\n",
       "    </tr>\n",
       "  </tbody>\n",
       "</table>\n",
       "<p>5 rows × 785 columns</p>\n",
       "</div>"
      ],
      "text/plain": [
       "   label  pixel0  pixel1  pixel2  pixel3  pixel4  pixel5  pixel6  pixel7  \\\n",
       "0      1       0       0       0       0       0       0       0       0   \n",
       "1      0       0       0       0       0       0       0       0       0   \n",
       "2      1       0       0       0       0       0       0       0       0   \n",
       "3      4       0       0       0       0       0       0       0       0   \n",
       "4      0       0       0       0       0       0       0       0       0   \n",
       "\n",
       "   pixel8  ...  pixel774  pixel775  pixel776  pixel777  pixel778  pixel779  \\\n",
       "0       0  ...         0         0         0         0         0         0   \n",
       "1       0  ...         0         0         0         0         0         0   \n",
       "2       0  ...         0         0         0         0         0         0   \n",
       "3       0  ...         0         0         0         0         0         0   \n",
       "4       0  ...         0         0         0         0         0         0   \n",
       "\n",
       "   pixel780  pixel781  pixel782  pixel783  \n",
       "0         0         0         0         0  \n",
       "1         0         0         0         0  \n",
       "2         0         0         0         0  \n",
       "3         0         0         0         0  \n",
       "4         0         0         0         0  \n",
       "\n",
       "[5 rows x 785 columns]"
      ]
     },
     "execution_count": 3,
     "metadata": {},
     "output_type": "execute_result"
    }
   ],
   "source": [
    "train.head()"
   ]
  },
  {
   "cell_type": "markdown",
   "id": "radical-making",
   "metadata": {},
   "source": [
    "## 2. Exploratory Data Analysis\n",
    "### 2.1 Visualising the data\n",
    "\n",
    "The digits are stored as a greyscale image of each number, with each pixel representing a brightness from 0 (dark / nothing) to 255 (white / full brightness).\n",
    "\n",
    "Each digit contains 784 pixel columns, which is a square of 28 pixels by 28 pixels. We can therefore reshape the data to visualise what some of the digits look like."
   ]
  },
  {
   "cell_type": "code",
   "execution_count": 4,
   "id": "tamil-strategy",
   "metadata": {
    "jupyter": {
     "source_hidden": true
    },
    "tags": []
   },
   "outputs": [
    {
     "data": {
      "image/png": "[encoded data removed]",
      "text/plain": [
       "<Figure size 720x144 with 10 Axes>"
      ]
     },
     "metadata": {},
     "output_type": "display_data"
    }
   ],
   "source": [
    "fig,ax=plt.subplots(\n",
    "    figsize=(10,2),nrows=1,\n",
    "    ncols=10,sharex=True,sharey=True)\n",
    "ax=ax.flatten()\n",
    "for i in range(10):\n",
    "    image=train.drop(\"label\", axis = 1).iloc[i].values.reshape(28,28)\n",
    "    ax[i].imshow(image,cmap=plt.cm.bone)\n",
    "ax[0].set_xticks([]); ax[0].set_yticks([])\n",
    "plt.tight_layout(); plt.gcf()\n",
    "ax[2].set_title(\n",
    "    'Examples of the 784-dimensional digits',fontsize=25);"
   ]
  },
  {
   "cell_type": "markdown",
   "id": "intended-publicity",
   "metadata": {},
   "source": [
    "### 2.2 Are there any missing values?"
   ]
  },
  {
   "cell_type": "code",
   "execution_count": 5,
   "id": "religious-session",
   "metadata": {
    "jupyter": {
     "source_hidden": true
    },
    "tags": []
   },
   "outputs": [
    {
     "name": "stdout",
     "output_type": "stream",
     "text": [
      "There are: 0 missing values.\n"
     ]
    }
   ],
   "source": [
    "print (f\"There are: {train.isnull().sum().sum()} missing values.\")"
   ]
  },
  {
   "cell_type": "markdown",
   "id": "tribal-turkey",
   "metadata": {},
   "source": [
    "## 3. Models\n",
    "### 3.1 Pre-Processing\n",
    "\n",
    "We don't need to complete a lot of pre-processing on this dataset.  We'll only need to create the X and y dataframes from the training data set and then split this using a **train_test_split** function.\n",
    "\n",
    "We'll set the stratify to **y** to ensure we keep a consistent balance of numbers in our train and test data set."
   ]
  },
  {
   "cell_type": "code",
   "execution_count": 6,
   "id": "legitimate-latitude",
   "metadata": {
    "jupyter": {
     "source_hidden": true
    },
    "tags": []
   },
   "outputs": [],
   "source": [
    "X = train.drop(\"label\", axis = 1)\n",
    "y = train.label\n",
    "X_train, X_test, y_train, y_test = train_test_split(X, y, train_size = 0.4, random_state=42, stratify=y)"
   ]
  },
  {
   "cell_type": "markdown",
   "id": "liable-honor",
   "metadata": {},
   "source": [
    "### 3.2 KNN - K Neighbors Classifier\n",
    "\n",
    "First, we'll attempt to recognise the digits using KNN - this is a quick classifier technique, which may not be the most accurate, but it can be used as a baseline for any other model we decide to implement.\n",
    "\n",
    "We don't know how many nearest neighbors will be best, so we should loop over a range to identify the best hyper parameter to use."
   ]
  },
  {
   "cell_type": "code",
   "execution_count": 7,
   "id": "complex-electric",
   "metadata": {
    "jupyter": {
     "source_hidden": true
    },
    "tags": []
   },
   "outputs": [
    {
     "name": "stdout",
     "output_type": "stream",
     "text": [
      "Processing n_neighbor: 1\n",
      "Processing n_neighbor: 2\n",
      "Processing n_neighbor: 3\n",
      "Processing n_neighbor: 4\n",
      "Processing n_neighbor: 5\n",
      "Processing n_neighbor: 6\n",
      "Processing n_neighbor: 7\n",
      "Processing n_neighbor: 8\n"
     ]
    },
    {
     "data": {
      "image/png": "[encoded data removed]",
      "text/plain": [
       "<Figure size 432x288 with 1 Axes>"
      ]
     },
     "metadata": {
      "needs_background": "light"
     },
     "output_type": "display_data"
    }
   ],
   "source": [
    "# Setup arrays to store train and test accuracies\n",
    "neighbors = np.arange(1, 9)\n",
    "train_accuracy = np.empty(len(neighbors))\n",
    "test_accuracy = np.empty(len(neighbors))\n",
    "\n",
    "# Loop over different values of k\n",
    "for i, k in enumerate(neighbors):\n",
    "    print(f\"Processing n_neighbor: {k}\")\n",
    "    # Setup a k-NN Classifier with k neighbors: knn\n",
    "    knn = KNeighborsClassifier(n_neighbors = k)\n",
    "\n",
    "    # Fit the classifier to the training data\n",
    "    knn.fit(X_train, y_train)\n",
    "    \n",
    "    #Compute accuracy on the training set\n",
    "    train_accuracy[i] = knn.score(X_train, y_train)\n",
    "\n",
    "    #Compute accuracy on the testing set\n",
    "    test_accuracy[i] = knn.score(X_test, y_test)\n",
    "\n",
    "# Generate plot\n",
    "plt.title(\"k-NN: Varying Number of Neighbors\")\n",
    "plt.plot(neighbors, test_accuracy, label = \"Testing Accuracy\")\n",
    "plt.plot(neighbors, train_accuracy, label =\" Training Accuracy\")\n",
    "plt.legend()\n",
    "plt.xlabel('Number of Neighbors')\n",
    "plt.ylabel('Accuracy')\n",
    "plt.show()"
   ]
  },
  {
   "cell_type": "markdown",
   "id": "durable-entrance",
   "metadata": {},
   "source": [
    "Interesting!  From the train data, it appears the best **n_neighbors** to use is 1, however from the test data, it's 3.  Let's use 3.from sklearn.metrics import classification_report\n",
    "\n",
    "Let's predict the digits in **X_test**, using 3 **n_neighbors**"
   ]
  },
  {
   "cell_type": "code",
   "execution_count": 8,
   "id": "settled-report",
   "metadata": {
    "jupyter": {
     "source_hidden": true
    },
    "tags": []
   },
   "outputs": [
    {
     "name": "stdout",
     "output_type": "stream",
     "text": [
      "KNN (n_neighbors of 3) has an accuracy of: 0.956\n",
      "Classification Report\n",
      "              precision    recall  f1-score   support\n",
      "\n",
      "           0       0.96      0.99      0.98      2479\n",
      "           1       0.94      0.99      0.97      2810\n",
      "           2       0.97      0.94      0.96      2506\n",
      "           3       0.95      0.95      0.95      2611\n",
      "           4       0.97      0.95      0.96      2443\n",
      "           5       0.94      0.95      0.95      2277\n",
      "           6       0.97      0.99      0.98      2482\n",
      "           7       0.95      0.96      0.96      2641\n",
      "           8       0.99      0.89      0.94      2438\n",
      "           9       0.94      0.94      0.94      2513\n",
      "\n",
      "    accuracy                           0.96     25200\n",
      "   macro avg       0.96      0.96      0.96     25200\n",
      "weighted avg       0.96      0.96      0.96     25200\n",
      "\n"
     ]
    }
   ],
   "source": [
    "knn = KNeighborsClassifier(n_neighbors = 3)\n",
    "knn.fit(X_train, y_train)\n",
    "y_pred = knn.predict(X_test)\n",
    "print(f\"KNN (n_neighbors of 3) has an accuracy of: {round(metrics.accuracy_score(y_pred, y_test),3)}\")\n",
    "print(\"Classification Report\")\n",
    "print(classification_report(y_test, y_pred))"
   ]
  },
  {
   "cell_type": "markdown",
   "id": "atmospheric-ribbon",
   "metadata": {},
   "source": [
    "Ok, so we get an accuracy of just under 96%! Not bad, but can we do better?\n",
    "\n",
    "### 3.3 SVC - Support Vector Machines (Categorisation)\n",
    "There is 784 features to each digit, most of which will be empty space / black space.\n",
    "\n",
    "SVC can become time consuming, especially when we want to hyper tune the model.  Therefore, we'll need to reduce the feature set.\n",
    "\n",
    "We can do this using PCA - Principle Component Analysis, for dimension reduction.\n",
    "\n",
    "However! How many features is best?\n",
    "\n",
    "#### Identifying the right parameters for PCA\n",
    "First, we'll define a **get_models()** function that will run a PCA model, followed by an untuned SVC and analysis the results.\n",
    "<br>We'll use **n_components** of:\n",
    "    10\n",
    "    100\n",
    "    200\n",
    "    250\n",
    "    300\n",
    "    400\n",
    "\n",
    "We'll then define a **evaluate_model()** function, where we'll produce a cross validation score for each PCA n_component, using a cross-validation of 5.\n",
    "\n",
    "Finally, we'll plot the results to a boxplot."
   ]
  },
  {
   "cell_type": "code",
   "execution_count": 9,
   "id": "floating-worry",
   "metadata": {
    "jupyter": {
     "source_hidden": true
    },
    "tags": []
   },
   "outputs": [],
   "source": [
    "def get_models():\n",
    "    models = dict()\n",
    "    for i in [10, 100, 200, 250, 300, 400]:\n",
    "        steps = [(\"pca\", PCA(n_components=i, random_state = 42)), (\"model\", SVC(random_state = 42))]\n",
    "        models[str(i)] = Pipeline(steps = steps)\n",
    "    return models"
   ]
  },
  {
   "cell_type": "code",
   "execution_count": 10,
   "id": "informative-accommodation",
   "metadata": {
    "jupyter": {
     "source_hidden": true
    },
    "tags": []
   },
   "outputs": [],
   "source": [
    "def evaluate_model(model, X, y):\n",
    "    scores = cross_val_score(model, X, y, scoring = \"accuracy\", cv = 5, n_jobs=-1, error_score=\"raise\")\n",
    "    return scores"
   ]
  },
  {
   "cell_type": "code",
   "execution_count": 11,
   "id": "accomplished-alpha",
   "metadata": {
    "jupyter": {
     "source_hidden": true
    },
    "tags": []
   },
   "outputs": [
    {
     "name": "stdout",
     "output_type": "stream",
     "text": [
      "n_component: 10 has a mean accuracy score of: 0.9215 (0.0059)\n",
      "n_component: 100 has a mean accuracy score of: 0.9710 (0.0034)\n",
      "n_component: 200 has a mean accuracy score of: 0.9700 (0.0034)\n",
      "n_component: 250 has a mean accuracy score of: 0.9699 (0.0035)\n",
      "n_component: 300 has a mean accuracy score of: 0.9698 (0.0036)\n",
      "n_component: 400 has a mean accuracy score of: 0.9696 (0.0033)\n"
     ]
    },
    {
     "data": {
      "image/png": "[encoded data removed]",
      "text/plain": [
       "<Figure size 432x288 with 1 Axes>"
      ]
     },
     "metadata": {
      "needs_background": "light"
     },
     "output_type": "display_data"
    }
   ],
   "source": [
    "models = get_models()\n",
    "results, names = list(), list()\n",
    "for name, model in models.items():\n",
    "    scores = evaluate_model(model, X_train, y_train)\n",
    "    results.append(scores)\n",
    "    names.append(name)\n",
    "    print(\"n_component: %s has a mean accuracy score of: %.4f (%.4f)\" % (name, np.mean(scores), np.std(scores)))\n",
    "\n",
    "plt.boxplot(results, labels = names, showmeans = True)\n",
    "plt.title(\"Accuracy of each PCA n_components\")\n",
    "plt.xlabel(\"Accuracy\")\n",
    "plt.ylabel(\"n_components\")\n",
    "plt.xticks(rotation = 45)\n",
    "plt.show()"
   ]
  },
  {
   "cell_type": "markdown",
   "id": "fitting-congo",
   "metadata": {},
   "source": [
    "It looks like we get best results with 100 components, with slightly worse result when we use a higher number of components.  Using only 10 leads to the worst result.\n",
    "\n",
    "#### Hyper Tuning the SVC model\n",
    "We now need to hyper tune the SVC model, using the following hyper parameters:\n",
    "\n",
    "    hyper_params = [{'model__C': [3, 4, 5], \"model__gamma\": [\"auto\", \"scale\"], 'model__kernel': ['poly']},\n",
    "                    {'model__C': [3, 4, 5], \"model__gamma\": [\"auto\", \"scale\"], 'model__kernel': ['rbf']} ]\n",
    "\n",
    "This will take some time to process."
   ]
  },
  {
   "cell_type": "code",
   "execution_count": 12,
   "id": "accessory-arnold",
   "metadata": {
    "jupyter": {
     "source_hidden": true
    },
    "tags": []
   },
   "outputs": [],
   "source": [
    "PCA_Pipeline = Pipeline(steps=[('pca', PCA(n_components=100, random_state=42)),\n",
    "                               ('model', SVC(random_state=42))])\n",
    "\n",
    "# Set the parameters by cross-validation\n",
    "hyper_params = [{'model__C': [3, 4, 5], \"model__gamma\": [\"auto\", \"scale\"], 'model__kernel': ['poly']},\n",
    "                {'model__C': [3, 4, 5], \"model__gamma\": [\"auto\", \"scale\"], 'model__kernel': ['rbf']} ]"
   ]
  },
  {
   "cell_type": "markdown",
   "id": "automatic-husband",
   "metadata": {},
   "source": [
    "From running this previously, the best result is\n",
    "\n",
    "    {'model__C': 3, 'model__gamma': 'scale', 'model__kernel': 'rbf'}\n",
    "\n",
    "For speed, we'll set this as the only hyper_parameter to use:"
   ]
  },
  {
   "cell_type": "code",
   "execution_count": 13,
   "id": "severe-assist",
   "metadata": {
    "jupyter": {
     "source_hidden": true
    },
    "tags": []
   },
   "outputs": [],
   "source": [
    "hyper_params = [{'model__C': [3], \"model__gamma\": [\"scale\"], 'model__kernel': ['rbf']} ]"
   ]
  },
  {
   "cell_type": "code",
   "execution_count": 14,
   "id": "collect-environment",
   "metadata": {
    "jupyter": {
     "source_hidden": true
    },
    "tags": []
   },
   "outputs": [
    {
     "name": "stdout",
     "output_type": "stream",
     "text": [
      "Fitting 5 folds for each of 1 candidates, totalling 5 fits\n"
     ]
    },
    {
     "data": {
      "text/plain": [
       "GridSearchCV(cv=KFold(n_splits=5, random_state=None, shuffle=False),\n",
       "             estimator=Pipeline(steps=[('pca',\n",
       "                                        PCA(n_components=100, random_state=42)),\n",
       "                                       ('model', SVC(random_state=42))]),\n",
       "             n_jobs=-1,\n",
       "             param_grid=[{'model__C': [3], 'model__gamma': ['scale'],\n",
       "                          'model__kernel': ['rbf']}],\n",
       "             return_train_score=True, scoring='accuracy', verbose=2)"
      ]
     },
     "execution_count": 14,
     "metadata": {},
     "output_type": "execute_result"
    }
   ],
   "source": [
    "# set up GridSearchCV()\n",
    "model_cv = GridSearchCV(estimator = PCA_Pipeline, \n",
    "                        param_grid = hyper_params, \n",
    "                        scoring= 'accuracy', \n",
    "                        cv = KFold(), \n",
    "                        n_jobs = -1,\n",
    "                        verbose = 2,\n",
    "                        return_train_score=True)      \n",
    "\n",
    "# fit the model\n",
    "model_cv.fit(X_train, y_train)    "
   ]
  },
  {
   "cell_type": "code",
   "execution_count": 15,
   "id": "curious-cherry",
   "metadata": {
    "jupyter": {
     "source_hidden": true
    },
    "tags": []
   },
   "outputs": [
    {
     "name": "stdout",
     "output_type": "stream",
     "text": [
      "The best parameters are:\n"
     ]
    },
    {
     "data": {
      "text/plain": [
       "{'model__C': 3, 'model__gamma': 'scale', 'model__kernel': 'rbf'}"
      ]
     },
     "execution_count": 15,
     "metadata": {},
     "output_type": "execute_result"
    }
   ],
   "source": [
    "print(\"The best parameters are:\")\n",
    "model_cv.best_params_"
   ]
  },
  {
   "cell_type": "markdown",
   "id": "awful-necklace",
   "metadata": {},
   "source": [
    "Ok, let's use this best estimator on our test data"
   ]
  },
  {
   "cell_type": "code",
   "execution_count": 16,
   "id": "graphic-engagement",
   "metadata": {
    "jupyter": {
     "source_hidden": true
    },
    "tags": []
   },
   "outputs": [],
   "source": [
    "#Extract the best estimator\n",
    "best_model = model_cv.best_estimator_\n",
    "\n",
    "# Predict the test set probabilities of the positive class\n",
    "y_pred = best_model.predict(X_test)\n"
   ]
  },
  {
   "cell_type": "code",
   "execution_count": 17,
   "id": "single-riverside",
   "metadata": {
    "jupyter": {
     "source_hidden": true
    },
    "tags": []
   },
   "outputs": [
    {
     "name": "stdout",
     "output_type": "stream",
     "text": [
      "Accuracy of our hyper-tunned model is: 0.976\n"
     ]
    }
   ],
   "source": [
    "print(f\"Accuracy of our hyper-tunned model is: {round(metrics.accuracy_score(y_pred, y_test),3)}\")"
   ]
  },
  {
   "cell_type": "code",
   "execution_count": 18,
   "id": "bottom-tenant",
   "metadata": {
    "jupyter": {
     "source_hidden": true
    },
    "tags": []
   },
   "outputs": [
    {
     "name": "stdout",
     "output_type": "stream",
     "text": [
      "Classification Report\n",
      "              precision    recall  f1-score   support\n",
      "\n",
      "           0       0.98      0.99      0.99      2479\n",
      "           1       0.99      0.99      0.99      2810\n",
      "           2       0.97      0.98      0.97      2506\n",
      "           3       0.97      0.97      0.97      2611\n",
      "           4       0.97      0.98      0.98      2443\n",
      "           5       0.97      0.97      0.97      2277\n",
      "           6       0.98      0.99      0.99      2482\n",
      "           7       0.98      0.97      0.98      2641\n",
      "           8       0.97      0.97      0.97      2438\n",
      "           9       0.97      0.96      0.96      2513\n",
      "\n",
      "    accuracy                           0.98     25200\n",
      "   macro avg       0.98      0.98      0.98     25200\n",
      "weighted avg       0.98      0.98      0.98     25200\n",
      "\n"
     ]
    }
   ],
   "source": [
    "print(\"Classification Report\")\n",
    "print(classification_report(y_test, y_pred))"
   ]
  },
  {
   "cell_type": "markdown",
   "id": "temporal-fireplace",
   "metadata": {},
   "source": [
    "Fantastic! We have a really good score, using just 40% of the training data.  Now we know which model to use and which hyper-parameters, let's retrain the best model on the entire train.csv dataset, so we can predict our test.csv data on even more training data."
   ]
  },
  {
   "cell_type": "code",
   "execution_count": 19,
   "id": "crazy-persian",
   "metadata": {
    "jupyter": {
     "source_hidden": true
    },
    "tags": []
   },
   "outputs": [],
   "source": [
    "best_model.fit(X, y)\n",
    "final_y_pred = best_model.predict(test)"
   ]
  },
  {
   "cell_type": "markdown",
   "id": "mediterranean-brooks",
   "metadata": {},
   "source": [
    "## 4. Submission"
   ]
  },
  {
   "cell_type": "code",
   "execution_count": 20,
   "id": "intimate-contributor",
   "metadata": {
    "jupyter": {
     "source_hidden": true
    },
    "tags": []
   },
   "outputs": [
    {
     "name": "stdout",
     "output_type": "stream",
     "text": [
      "Head of submission data frame\n"
     ]
    },
    {
     "data": {
      "text/html": [
       "<div>\n",
       "<style scoped>\n",
       "    .dataframe tbody tr th:only-of-type {\n",
       "        vertical-align: middle;\n",
       "    }\n",
       "\n",
       "    .dataframe tbody tr th {\n",
       "        vertical-align: top;\n",
       "    }\n",
       "\n",
       "    .dataframe thead th {\n",
       "        text-align: right;\n",
       "    }\n",
       "</style>\n",
       "<table border=\"1\" class=\"dataframe\">\n",
       "  <thead>\n",
       "    <tr style=\"text-align: right;\">\n",
       "      <th></th>\n",
       "      <th>ImageId</th>\n",
       "      <th>Label</th>\n",
       "    </tr>\n",
       "  </thead>\n",
       "  <tbody>\n",
       "    <tr>\n",
       "      <th>0</th>\n",
       "      <td>1</td>\n",
       "      <td>2</td>\n",
       "    </tr>\n",
       "    <tr>\n",
       "      <th>1</th>\n",
       "      <td>2</td>\n",
       "      <td>0</td>\n",
       "    </tr>\n",
       "    <tr>\n",
       "      <th>2</th>\n",
       "      <td>3</td>\n",
       "      <td>9</td>\n",
       "    </tr>\n",
       "    <tr>\n",
       "      <th>3</th>\n",
       "      <td>4</td>\n",
       "      <td>9</td>\n",
       "    </tr>\n",
       "    <tr>\n",
       "      <th>4</th>\n",
       "      <td>5</td>\n",
       "      <td>3</td>\n",
       "    </tr>\n",
       "  </tbody>\n",
       "</table>\n",
       "</div>"
      ],
      "text/plain": [
       "   ImageId  Label\n",
       "0        1      2\n",
       "1        2      0\n",
       "2        3      9\n",
       "3        4      9\n",
       "4        5      3"
      ]
     },
     "execution_count": 20,
     "metadata": {},
     "output_type": "execute_result"
    }
   ],
   "source": [
    "# Submitting Prediction\n",
    "submission = pd.DataFrame({'ImageId': test.index+1, 'Label': final_y_pred})\n",
    "print(\"Head of submission data frame\")\n",
    "submission.head()"
   ]
  },
  {
   "cell_type": "code",
   "execution_count": 21,
   "id": "alive-official",
   "metadata": {
    "jupyter": {
     "source_hidden": true
    },
    "tags": []
   },
   "outputs": [
    {
     "name": "stdout",
     "output_type": "stream",
     "text": [
      "Submission saved.\n"
     ]
    }
   ],
   "source": [
    "submission.to_csv('submission.csv', index=False)\n",
    "print('Submission saved.')"
   ]
  }
 ],
 "metadata": {
  "kernelspec": {
   "display_name": "Python 3",
   "language": "python",
   "name": "python3"
  },
  "language_info": {
   "codemirror_mode": {
    "name": "ipython",
    "version": 3
   },
   "file_extension": ".py",
   "mimetype": "text/x-python",
   "name": "python",
   "nbconvert_exporter": "python",
   "pygments_lexer": "ipython3",
   "version": "3.8.5"
  }
 },
 "nbformat": 4,
 "nbformat_minor": 5
}
